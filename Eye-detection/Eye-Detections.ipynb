{
 "cells": [
  {
   "cell_type": "code",
   "execution_count": null,
   "id": "4bd73c10",
   "metadata": {},
   "outputs": [],
   "source": [
    "import cv2\n",
    "\n",
    "\n",
    "cam = cv2.VideoCapture(0)\n",
    "\n",
    "while cam.isOpened():\n",
    "    thresh , frame = cam.read()\n",
    "    #cv2.imshow(\"frame\",frame)\n",
    "\n",
    "    gray = cv2.cvtColor(frame,cv2.COLOR_BGR2GRAY)\n",
    "\n",
    "    haar = cv2.CascadeClassifier('eye.xml')\n",
    "    face = haar.detectMultiScale(gray,scaleFactor=1.1,minNeighbors=7)\n",
    "    \n",
    "    for (x,y,w,h) in face:\n",
    "        cv2.rectangle( frame , (x,y) , (x+w,y+h) , (0,255,0) , thickness=2 )\n",
    "\n",
    "    cv2.imshow(\"frame\",frame)\n",
    "\n",
    "    if cv2.waitKey(10)==ord(\"q\"):\n",
    "        break"
   ]
  }
 ],
 "metadata": {
  "kernelspec": {
   "display_name": "Python 3 (ipykernel)",
   "language": "python",
   "name": "python3"
  },
  "language_info": {
   "codemirror_mode": {
    "name": "ipython",
    "version": 3
   },
   "file_extension": ".py",
   "mimetype": "text/x-python",
   "name": "python",
   "nbconvert_exporter": "python",
   "pygments_lexer": "ipython3",
   "version": "3.10.4"
  }
 },
 "nbformat": 4,
 "nbformat_minor": 5
}
